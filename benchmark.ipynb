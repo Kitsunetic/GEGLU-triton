{
 "cells": [
  {
   "cell_type": "code",
   "execution_count": 1,
   "id": "23fa4562-63c1-4ada-bc13-a13ed15d4ef0",
   "metadata": {},
   "outputs": [],
   "source": [
    "%load_ext lab_black"
   ]
  },
  {
   "cell_type": "code",
   "execution_count": 8,
   "id": "ce14c54d-1790-43ef-8b0a-bd3207a53a93",
   "metadata": {},
   "outputs": [],
   "source": [
    "import math\n",
    "\n",
    "import torch as th\n",
    "import torch.nn as nn\n",
    "import torch.nn.functional as F\n",
    "import triton\n",
    "import triton.language as tl\n",
    "from torch import Tensor\n",
    "from torch.autograd.function import Function\n",
    "\n",
    "__all__ = [\"geglu\", \"GEGLU\"]\n",
    "\n",
    "_kAlpha = math.sqrt(2 / math.pi)\n",
    "\n",
    "\n",
    "def cummul(*xs):\n",
    "    y = xs[0]\n",
    "    for x in xs[1:]:\n",
    "        y *= x\n",
    "    return y\n",
    "\n",
    "\n",
    "@triton.jit\n",
    "def tanh(x):\n",
    "    # Tanh is just a scaled sigmoid\n",
    "    return 2 * tl.sigmoid(2 * x) - 1\n",
    "\n",
    "\n",
    "@triton.jit\n",
    "def cosh(x):\n",
    "    return (tl.exp(x) + tl.exp(-x)) * 0.5\n",
    "\n",
    "\n",
    "@triton.jit\n",
    "def gelu_forward(x):\n",
    "    \"\"\"\n",
    "    GeLU_ activation - Gaussian error linear unit\n",
    "\n",
    "    .. _GeLU: https://arxiv.org/pdf/1606.08415.pdf\n",
    "    \"\"\"\n",
    "    return 0.5 * x * (1 + tanh(_kAlpha * (x + 0.044715 * x * x * x)))\n",
    "\n",
    "\n",
    "@triton.jit\n",
    "def gelu_backward(x):\n",
    "    x2 = x * x\n",
    "    x3 = x2 * x\n",
    "    tanh_ = tanh(_kAlpha * (x + 0.044715 * x3))\n",
    "    dx = 0.5 * (x * (1 - tanh_ * tanh_) * (0.1070322244089 * x2 + 0.797884560802865) + tanh_ + 1)\n",
    "    return dx"
   ]
  },
  {
   "cell_type": "code",
   "execution_count": 43,
   "id": "1de4e959-455d-4509-bec9-176d20b1094d",
   "metadata": {},
   "outputs": [],
   "source": [
    "@triton.jit\n",
    "def geglu_forward_kernel(x_ptr, y_ptr, N, C, C2, BLK_C: tl.constexpr, BLK_N: tl.constexpr):\n",
    "    pid_n = tl.program_id(0)\n",
    "    pid_c = tl.program_id(1)\n",
    "    offs_n = pid_n * BLK_N + tl.arange(0, BLK_N)\n",
    "    offs_c = pid_c * BLK_C + tl.arange(0, BLK_C)\n",
    "    mask_n = offs_n < N\n",
    "    mask_c = offs_c < C2\n",
    "    mask = mask_n[:, None] & mask_c[None, :]\n",
    "\n",
    "    x_ptrs = x_ptr + offs_n[:, None] * C + offs_c[None, :]\n",
    "    x1 = tl.load(x_ptrs, mask=mask)\n",
    "    x2 = tl.load(x_ptrs + C2, mask=mask)\n",
    "    y = x1 * gelu_forward(x2)\n",
    "\n",
    "    y_ptrs = y_ptr + offs_n[:, None] * C2 + offs_c[None, :]\n",
    "    tl.store(y_ptrs, y, mask=mask)\n",
    "\n",
    "\n",
    "@triton.jit\n",
    "def geglu_backward_kernel(x_ptr, dx_ptr, dy_ptr, N, C, C2, BLK_C: tl.constexpr, BLK_N: tl.constexpr):\n",
    "    pid_n = tl.program_id(0)\n",
    "    pid_c = tl.program_id(1)\n",
    "    offs_n = pid_n * BLK_N + tl.arange(0, BLK_N)\n",
    "    offs_c = pid_c * BLK_C + tl.arange(0, BLK_C)\n",
    "    mask_n = offs_n < N\n",
    "    mask_c = offs_c < C2\n",
    "    mask = mask_n[:, None] & mask_c[None, :]\n",
    "\n",
    "    x_ptrs = x_ptr + offs_n[:, None] * C + offs_c[None, :]\n",
    "    x1 = tl.load(x_ptrs, mask=mask)\n",
    "    x2 = tl.load(x_ptrs + C2, mask=mask)\n",
    "\n",
    "    dy_ptrs = dy_ptr + offs_n[:, None] * C2 + offs_c[None, :]\n",
    "    dy = tl.load(dy_ptrs, mask=mask)\n",
    "\n",
    "    # x * F.gelu(gates)\n",
    "    dx1 = dy * gelu_forward(x2)\n",
    "    dx2 = dy * x1\n",
    "\n",
    "    # F.gelu(gates)\n",
    "    dx2 *= gelu_backward(x2)\n",
    "\n",
    "    dx_ptrs = dx_ptr + offs_n[:, None] * C + offs_c[None, :]\n",
    "    tl.store(dx_ptrs, dx1, mask=mask)\n",
    "    tl.store(dx_ptrs + C2, dx2, mask=mask)"
   ]
  },
  {
   "cell_type": "code",
   "execution_count": 44,
   "id": "c5d6f680-0916-44d9-8aef-008ece6cb657",
   "metadata": {},
   "outputs": [],
   "source": [
    "class GEGLUFunction(Function):\n",
    "    @staticmethod\n",
    "    def forward(ctx, x: Tensor):\n",
    "        \"\"\"\n",
    "        - x: ... c, contiguous\n",
    "        \"\"\"\n",
    "        N, C = cummul(*x.shape[:-1]), x.size(-1)\n",
    "        C2 = C >> 1\n",
    "        y = x.new_empty(*x.shape[:-1], C2)\n",
    "\n",
    "        BLK_C = max(8, min(1024, triton.next_power_of_2(C2)))\n",
    "        BLK_N = max(1, 1024 // BLK_C)\n",
    "        grid = lambda meta: (triton.cdiv(N, meta[\"BLK_N\"]), triton.cdiv(C2, meta[\"BLK_C\"]))\n",
    "        geglu_forward_kernel[grid](x, y, N, C, C2, BLK_C=BLK_C, BLK_N=BLK_N)\n",
    "\n",
    "        ctx.save_for_backward(x)\n",
    "        return y\n",
    "\n",
    "    @staticmethod\n",
    "    def backward(ctx, dy: Tensor):\n",
    "        \"\"\"\n",
    "        - dy: ... c // 2, contiguous\n",
    "        \"\"\"\n",
    "        (x,) = ctx.saved_tensors  # ... c\n",
    "        N, C = cummul(*x.shape[:-1]), x.size(-1)\n",
    "        C2 = C >> 1\n",
    "        dx = th.empty_like(x)  # ... c\n",
    "\n",
    "        BLK_C = max(8, min(1024, triton.next_power_of_2(C2)))\n",
    "        BLK_N = max(1, 1024 // BLK_C)\n",
    "        grid = lambda meta: (triton.cdiv(N, meta[\"BLK_N\"]), triton.cdiv(C2, meta[\"BLK_C\"]))\n",
    "\n",
    "        geglu_backward_kernel[grid](x, dx, dy, N, C, C2, BLK_C=BLK_C, BLK_N=BLK_N)\n",
    "        return dx\n",
    "\n",
    "\n",
    "def geglu(x: Tensor):\n",
    "    \"\"\"\n",
    "    input:\n",
    "    - x: ... c\n",
    "    \"\"\"\n",
    "    C = x.size(-1)\n",
    "    assert C & 0x01 == 0, x.shape\n",
    "\n",
    "    if not x.is_contiguous():\n",
    "        x = x.contiguous()\n",
    "\n",
    "    return GEGLUFunction.apply(x)\n",
    "\n",
    "\n",
    "class GEGLU(nn.Module):\n",
    "    def forward(self, x: Tensor):\n",
    "        return geglu(x)"
   ]
  },
  {
   "cell_type": "code",
   "execution_count": 45,
   "id": "d0c7e130-2bdc-43d3-adbd-fd35121c55f7",
   "metadata": {},
   "outputs": [],
   "source": [
    "def geglu_torch(x: Tensor):\n",
    "    x, gates = x.chunk(2, dim=-1)\n",
    "    return x * F.gelu(gates)"
   ]
  },
  {
   "cell_type": "markdown",
   "id": "3ce14b86-7697-4d28-a641-cbd428821ba1",
   "metadata": {},
   "source": [
    "# Validation"
   ]
  },
  {
   "cell_type": "code",
   "execution_count": 46,
   "id": "0e265c74-e49f-4189-9dba-a2856ac6c219",
   "metadata": {},
   "outputs": [],
   "source": [
    "x = th.rand(4096, 4096, device=\"cuda\", requires_grad=True)\n",
    "dy = th.randn(*x.shape[:-1], x.size(-1) // 2, device=\"cuda\")"
   ]
  },
  {
   "cell_type": "code",
   "execution_count": 47,
   "id": "7ca5e672-46c3-4e41-841b-11c1eab92422",
   "metadata": {},
   "outputs": [],
   "source": [
    "y_pth = geglu_torch(x)\n",
    "y_pth.backward(dy, retain_graph=True)\n",
    "grad_pth, x.grad = x.grad, None"
   ]
  },
  {
   "cell_type": "code",
   "execution_count": 48,
   "id": "7d93edef-5089-474e-ac9d-ae938a1ca049",
   "metadata": {},
   "outputs": [],
   "source": [
    "y_tri = geglu(x)\n",
    "y_tri.backward(dy, retain_graph=True)\n",
    "grad_tri, x.grad = x.grad, None"
   ]
  },
  {
   "cell_type": "code",
   "execution_count": 62,
   "id": "94f6a71f-eb80-4db0-895a-c5aa08af0207",
   "metadata": {},
   "outputs": [
    {
     "data": {
      "text/plain": [
       "True"
      ]
     },
     "execution_count": 62,
     "metadata": {},
     "output_type": "execute_result"
    }
   ],
   "source": [
    "th.allclose(y_pth, y_tri, rtol=1e-3)"
   ]
  },
  {
   "cell_type": "code",
   "execution_count": 63,
   "id": "07a9accd-92d3-4d2b-927d-38fb0510d86f",
   "metadata": {},
   "outputs": [
    {
     "data": {
      "text/plain": [
       "True"
      ]
     },
     "execution_count": 63,
     "metadata": {},
     "output_type": "execute_result"
    }
   ],
   "source": [
    "th.allclose(grad_pth, grad_tri, rtol=1e-3)"
   ]
  },
  {
   "cell_type": "markdown",
   "id": "85fe6aa2-9bec-42d4-b268-49c0f8d85812",
   "metadata": {},
   "source": [
    "# Benchmark"
   ]
  },
  {
   "cell_type": "code",
   "execution_count": 68,
   "id": "7177ae07-ecaf-4f76-be05-9f8cbe751b77",
   "metadata": {},
   "outputs": [
    {
     "data": {
      "image/png": "[encoded data removed]",
      "text/plain": [
       "<Figure size 640x480 with 1 Axes>"
      ]
     },
     "metadata": {},
     "output_type": "display_data"
    },
    {
     "name": "stdout",
     "output_type": "stream",
     "text": [
      "geglu-performance:\n",
      "        C   pytorch    triton\n",
      "0   128.0  0.014336  0.009216\n",
      "1   256.0  0.019456  0.013312\n",
      "2   512.0  0.036864  0.022528\n",
      "3  1024.0  0.069632  0.040960\n",
      "4  2048.0  0.130048  0.077824\n",
      "5  4096.0  0.256000  0.152576\n",
      "6  8192.0  0.493568  0.306176\n"
     ]
    }
   ],
   "source": [
    "@triton.testing.perf_report(\n",
    "    triton.testing.Benchmark(\n",
    "        x_names=[\"C\"],\n",
    "        line_arg=\"provider\",\n",
    "        x_vals=[2**i for i in range(7, 14)],\n",
    "        line_vals=[\"pytorch\", \"triton\"],\n",
    "        line_names=[\"pytorch\", \"triton\"],\n",
    "        styles=[(\"green\", \"-\"), (\"blue\", \"-\")],\n",
    "        ylabel=\"runtime(ms)\",\n",
    "        plot_name=\"geglu-performance\",\n",
    "        args={\"N\": 4096},\n",
    "    )\n",
    ")\n",
    "def benchmark(N, C, provider):\n",
    "    x = th.rand(N, C, device=\"cuda\")\n",
    "\n",
    "    quantiles = [0.5, 0.2, 0.8]\n",
    "    if provider == \"pytorch\":\n",
    "        ms, min_ms, max_ms = triton.testing.do_bench(\n",
    "            lambda: geglu_torch(x),\n",
    "            quantiles=quantiles,\n",
    "        )\n",
    "    if provider == \"triton\":\n",
    "        ms, min_ms, max_ms = triton.testing.do_bench(\n",
    "            lambda: geglu(x),\n",
    "            quantiles=quantiles,\n",
    "        )\n",
    "\n",
    "    return ms, max_ms, min_ms\n",
    "\n",
    "\n",
    "benchmark.run(show_plots=True, print_data=True)"
   ]
  },
  {
   "cell_type": "code",
   "execution_count": 69,
   "id": "52066a7d-474c-40f2-985f-9fe6316109e9",
   "metadata": {},
   "outputs": [
    {
     "data": {
      "image/png": "[encoded data removed]",
      "text/plain": [
       "<Figure size 640x480 with 1 Axes>"
      ]
     },
     "metadata": {},
     "output_type": "display_data"
    },
    {
     "name": "stdout",
     "output_type": "stream",
     "text": [
      "geglu-performance:\n",
      "        N   pytorch    triton\n",
      "0   128.0  0.014336  0.009216\n",
      "1   256.0  0.020480  0.013312\n",
      "2   512.0  0.036864  0.022528\n",
      "3  1024.0  0.069632  0.040960\n",
      "4  2048.0  0.134144  0.078848\n",
      "5  4096.0  0.256000  0.152576\n",
      "6  8192.0  0.498688  0.299008\n"
     ]
    }
   ],
   "source": [
    "@triton.testing.perf_report(\n",
    "    triton.testing.Benchmark(\n",
    "        x_names=[\"N\"],\n",
    "        line_arg=\"provider\",\n",
    "        x_vals=[2**i for i in range(7, 14)],\n",
    "        line_vals=[\"pytorch\", \"triton\"],\n",
    "        line_names=[\"pytorch\", \"triton\"],\n",
    "        styles=[(\"green\", \"-\"), (\"blue\", \"-\")],\n",
    "        ylabel=\"runtime(ms)\",\n",
    "        plot_name=\"geglu-performance\",\n",
    "        args={\"C\": 4096},\n",
    "    )\n",
    ")\n",
    "def benchmark(N, C, provider):\n",
    "    x = th.rand(N, C, device=\"cuda\")\n",
    "\n",
    "    quantiles = [0.5, 0.2, 0.8]\n",
    "    if provider == \"pytorch\":\n",
    "        ms, min_ms, max_ms = triton.testing.do_bench(\n",
    "            lambda: geglu_torch(x),\n",
    "            quantiles=quantiles,\n",
    "        )\n",
    "    if provider == \"triton\":\n",
    "        ms, min_ms, max_ms = triton.testing.do_bench(\n",
    "            lambda: geglu(x),\n",
    "            quantiles=quantiles,\n",
    "        )\n",
    "\n",
    "    return ms, max_ms, min_ms\n",
    "\n",
    "\n",
    "benchmark.run(show_plots=True, print_data=True)"
   ]
  },
  {
   "cell_type": "code",
   "execution_count": null,
   "id": "64c948ae-badf-4058-b41e-1117d30fa1b2",
   "metadata": {},
   "outputs": [],
   "source": []
  }
 ],
 "metadata": {
  "kernelspec": {
   "display_name": "Python 3 (ipykernel)",
   "language": "python",
   "name": "python3"
  },
  "language_info": {
   "codemirror_mode": {
    "name": "ipython",
    "version": 3
   },
   "file_extension": ".py",
   "mimetype": "text/x-python",
   "name": "python",
   "nbconvert_exporter": "python",
   "pygments_lexer": "ipython3",
   "version": "3.10.14"
  }
 },
 "nbformat": 4,
 "nbformat_minor": 5
}
